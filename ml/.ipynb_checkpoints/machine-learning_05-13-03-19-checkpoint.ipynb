{
 "cells": [
  {
   "cell_type": "code",
   "execution_count": 17,
   "metadata": {},
   "outputs": [],
   "source": [
    "#Import pandas and scikitlearn for ML\n",
    "import pandas as pd\n",
    "from sklearn.preprocessing import StandardScaler\n",
    "from sklearn.neural_network import MLPRegressor\n",
    "from sklearn.model_selection import GridSearchCV\n",
    "from sklearn.tree import DecisionTreeRegressor\n",
    "from sklearn.linear_model import LinearRegression, Ridge, HuberRegressor, ElasticNetCV\n",
    "from sklearn.ensemble import BaggingRegressor, ExtraTreesRegressor, GradientBoostingRegressor, RandomForestRegressor\n",
    "import pickle"
   ]
  },
  {
   "cell_type": "code",
   "execution_count": 4,
   "metadata": {},
   "outputs": [],
   "source": [
    "# Read in cleaned results\n",
    "df = pd.read_csv('05-13-03-19_results_cleaned.csv')"
   ]
  },
  {
   "cell_type": "code",
   "execution_count": 10,
   "metadata": {
    "scrolled": true
   },
   "outputs": [],
   "source": [
    "# Transform to a 2D array and assign features and target\n",
    "# Available bikes as target. Another model can be done for available stands if needed.\n",
    "features = df[['bike_stands', 'number', 'banking', 'weekday', 'hour', 'minute']].values\n",
    "targets = df['available_bikes'].values\n"
   ]
  },
  {
   "cell_type": "code",
   "execution_count": 6,
   "metadata": {},
   "outputs": [],
   "source": [
    "# Cycles through neural network options and selects the most accurate.\n",
    "def mlp_regressor_grid_search():\n",
    "    est = MLPRegressor(activation= 'logistic')\n",
    "    sizes = []\n",
    "    for size1 in range(5, 20, 5):\n",
    "        sizes.append(size1)\n",
    "\n",
    "    param_grid = dict(solver=['lbfgs'], #'sgd','adam'\n",
    "                      learning_rate=['adaptive','invscaling'],\n",
    "                      alpha=[0.0001], # [0.0005, 0.001, 0.005, 0.01]\n",
    "                      max_iter=[200], #np.arange(200, 300, 20)\n",
    "                      tol=[0.0001], #np.arange(0.00001, 0.0001, 0.00001)\n",
    "                      hidden_layer_sizes=sizes)\n",
    "    return GridSearchCV(est, param_grid=param_grid, n_jobs=1, verbose=100)\n"
   ]
  },
  {
   "cell_type": "code",
   "execution_count": 22,
   "metadata": {},
   "outputs": [],
   "source": [
    "models = [LinearRegression(),\n",
    "          Ridge(),\n",
    "          HuberRegressor(),\n",
    "          ElasticNetCV(),\n",
    "          DecisionTreeRegressor(), \n",
    "          ExtraTreesRegressor(),\n",
    "          GradientBoostingRegressor(),\n",
    "          RandomForestRegressor(),\n",
    "          BaggingRegressor()]\n"
   ]
  },
  {
   "cell_type": "code",
   "execution_count": 7,
   "metadata": {},
   "outputs": [],
   "source": [
    "# Split the data set into test and training data.\n",
    "def split_by_position(features, targets):\n",
    "    \"\"\"\n",
    "    train 0.80\n",
    "    test 0.20\n",
    "    \"\"\"\n",
    "    len_train = int(0.80 * len(features))\n",
    "    train_features = features[0:len_train]\n",
    "    train_targets = targets[0:len_train]\n",
    "    test_features = features[len_train:]\n",
    "    test_targets = targets[len_train:]\n",
    "    return train_features, test_features, train_targets, test_targets\n"
   ]
  },
  {
   "cell_type": "code",
   "execution_count": 11,
   "metadata": {},
   "outputs": [],
   "source": [
    "# Assign training features and target and test features and target\n",
    "train_features, test_features, train_targets, test_targets = split_by_position(features, targets)\n",
    "\n"
   ]
  },
  {
   "cell_type": "code",
   "execution_count": 12,
   "metadata": {},
   "outputs": [],
   "source": [
    "# Normalise the features for training\n",
    "scaler = StandardScaler()\n",
    "scaler.fit(train_features)\n",
    "scaled_train_features = scaler.transform(train_features)\n"
   ]
  },
  {
   "cell_type": "code",
   "execution_count": 13,
   "metadata": {
    "scrolled": true
   },
   "outputs": [
    {
     "name": "stderr",
     "output_type": "stream",
     "text": [
      "/anaconda3/lib/python3.6/site-packages/sklearn/model_selection/_split.py:2053: FutureWarning: You should specify a value for 'cv' instead of relying on the default value. The default value will change from 3 to 5 in version 0.22.\n",
      "  warnings.warn(CV_WARNING, FutureWarning)\n"
     ]
    },
    {
     "name": "stdout",
     "output_type": "stream",
     "text": [
      "Fitting 3 folds for each of 6 candidates, totalling 18 fits\n",
      "[Parallel(n_jobs=1)]: Using backend SequentialBackend with 1 concurrent workers.\n",
      "[CV] alpha=0.0001, hidden_layer_sizes=5, learning_rate=adaptive, max_iter=200, solver=lbfgs, tol=0.0001 \n",
      "[CV]  alpha=0.0001, hidden_layer_sizes=5, learning_rate=adaptive, max_iter=200, solver=lbfgs, tol=0.0001, score=-0.14509095780594583, total=   2.1s\n",
      "[Parallel(n_jobs=1)]: Done   1 out of   1 | elapsed:    2.1s remaining:    0.0s\n",
      "[CV] alpha=0.0001, hidden_layer_sizes=5, learning_rate=adaptive, max_iter=200, solver=lbfgs, tol=0.0001 \n",
      "[CV]  alpha=0.0001, hidden_layer_sizes=5, learning_rate=adaptive, max_iter=200, solver=lbfgs, tol=0.0001, score=0.015630571583743924, total=   2.2s\n",
      "[Parallel(n_jobs=1)]: Done   2 out of   2 | elapsed:    4.3s remaining:    0.0s\n",
      "[CV] alpha=0.0001, hidden_layer_sizes=5, learning_rate=adaptive, max_iter=200, solver=lbfgs, tol=0.0001 \n",
      "[CV]  alpha=0.0001, hidden_layer_sizes=5, learning_rate=adaptive, max_iter=200, solver=lbfgs, tol=0.0001, score=-0.012001840515256657, total=   2.1s\n",
      "[Parallel(n_jobs=1)]: Done   3 out of   3 | elapsed:    6.4s remaining:    0.0s\n",
      "[CV] alpha=0.0001, hidden_layer_sizes=5, learning_rate=invscaling, max_iter=200, solver=lbfgs, tol=0.0001 \n",
      "[CV]  alpha=0.0001, hidden_layer_sizes=5, learning_rate=invscaling, max_iter=200, solver=lbfgs, tol=0.0001, score=-0.05831269832480879, total=   2.1s\n",
      "[Parallel(n_jobs=1)]: Done   4 out of   4 | elapsed:    8.5s remaining:    0.0s\n",
      "[CV] alpha=0.0001, hidden_layer_sizes=5, learning_rate=invscaling, max_iter=200, solver=lbfgs, tol=0.0001 \n",
      "[CV]  alpha=0.0001, hidden_layer_sizes=5, learning_rate=invscaling, max_iter=200, solver=lbfgs, tol=0.0001, score=0.012570076250603024, total=   2.1s\n",
      "[Parallel(n_jobs=1)]: Done   5 out of   5 | elapsed:   10.6s remaining:    0.0s\n",
      "[CV] alpha=0.0001, hidden_layer_sizes=5, learning_rate=invscaling, max_iter=200, solver=lbfgs, tol=0.0001 \n",
      "[CV]  alpha=0.0001, hidden_layer_sizes=5, learning_rate=invscaling, max_iter=200, solver=lbfgs, tol=0.0001, score=-0.007524462397304088, total=   2.2s\n",
      "[Parallel(n_jobs=1)]: Done   6 out of   6 | elapsed:   12.8s remaining:    0.0s\n",
      "[CV] alpha=0.0001, hidden_layer_sizes=10, learning_rate=adaptive, max_iter=200, solver=lbfgs, tol=0.0001 \n",
      "[CV]  alpha=0.0001, hidden_layer_sizes=10, learning_rate=adaptive, max_iter=200, solver=lbfgs, tol=0.0001, score=-1.8122384820762907, total=   3.7s\n",
      "[Parallel(n_jobs=1)]: Done   7 out of   7 | elapsed:   16.6s remaining:    0.0s\n",
      "[CV] alpha=0.0001, hidden_layer_sizes=10, learning_rate=adaptive, max_iter=200, solver=lbfgs, tol=0.0001 \n",
      "[CV]  alpha=0.0001, hidden_layer_sizes=10, learning_rate=adaptive, max_iter=200, solver=lbfgs, tol=0.0001, score=-0.04174285842431891, total=   3.9s\n",
      "[Parallel(n_jobs=1)]: Done   8 out of   8 | elapsed:   20.4s remaining:    0.0s\n",
      "[CV] alpha=0.0001, hidden_layer_sizes=10, learning_rate=adaptive, max_iter=200, solver=lbfgs, tol=0.0001 \n",
      "[CV]  alpha=0.0001, hidden_layer_sizes=10, learning_rate=adaptive, max_iter=200, solver=lbfgs, tol=0.0001, score=-0.035055234987151795, total=   3.9s\n",
      "[Parallel(n_jobs=1)]: Done   9 out of   9 | elapsed:   24.3s remaining:    0.0s\n",
      "[CV] alpha=0.0001, hidden_layer_sizes=10, learning_rate=invscaling, max_iter=200, solver=lbfgs, tol=0.0001 \n",
      "[CV]  alpha=0.0001, hidden_layer_sizes=10, learning_rate=invscaling, max_iter=200, solver=lbfgs, tol=0.0001, score=-0.5173403506558489, total=   3.9s\n",
      "[Parallel(n_jobs=1)]: Done  10 out of  10 | elapsed:   28.2s remaining:    0.0s\n",
      "[CV] alpha=0.0001, hidden_layer_sizes=10, learning_rate=invscaling, max_iter=200, solver=lbfgs, tol=0.0001 \n",
      "[CV]  alpha=0.0001, hidden_layer_sizes=10, learning_rate=invscaling, max_iter=200, solver=lbfgs, tol=0.0001, score=-0.33792093841307747, total=   3.9s\n",
      "[Parallel(n_jobs=1)]: Done  11 out of  11 | elapsed:   32.1s remaining:    0.0s\n",
      "[CV] alpha=0.0001, hidden_layer_sizes=10, learning_rate=invscaling, max_iter=200, solver=lbfgs, tol=0.0001 \n",
      "[CV]  alpha=0.0001, hidden_layer_sizes=10, learning_rate=invscaling, max_iter=200, solver=lbfgs, tol=0.0001, score=-0.047710689743057914, total=   4.1s\n",
      "[Parallel(n_jobs=1)]: Done  12 out of  12 | elapsed:   36.2s remaining:    0.0s\n",
      "[CV] alpha=0.0001, hidden_layer_sizes=15, learning_rate=adaptive, max_iter=200, solver=lbfgs, tol=0.0001 \n",
      "[CV]  alpha=0.0001, hidden_layer_sizes=15, learning_rate=adaptive, max_iter=200, solver=lbfgs, tol=0.0001, score=-1.0962260948811866, total=   5.9s\n",
      "[Parallel(n_jobs=1)]: Done  13 out of  13 | elapsed:   42.1s remaining:    0.0s\n",
      "[CV] alpha=0.0001, hidden_layer_sizes=15, learning_rate=adaptive, max_iter=200, solver=lbfgs, tol=0.0001 \n",
      "[CV]  alpha=0.0001, hidden_layer_sizes=15, learning_rate=adaptive, max_iter=200, solver=lbfgs, tol=0.0001, score=-0.12251083082714077, total=   4.9s\n",
      "[Parallel(n_jobs=1)]: Done  14 out of  14 | elapsed:   47.0s remaining:    0.0s\n",
      "[CV] alpha=0.0001, hidden_layer_sizes=15, learning_rate=adaptive, max_iter=200, solver=lbfgs, tol=0.0001 \n",
      "[CV]  alpha=0.0001, hidden_layer_sizes=15, learning_rate=adaptive, max_iter=200, solver=lbfgs, tol=0.0001, score=-0.39239118024747954, total=   4.8s\n",
      "[Parallel(n_jobs=1)]: Done  15 out of  15 | elapsed:   51.7s remaining:    0.0s\n",
      "[CV] alpha=0.0001, hidden_layer_sizes=15, learning_rate=invscaling, max_iter=200, solver=lbfgs, tol=0.0001 \n",
      "[CV]  alpha=0.0001, hidden_layer_sizes=15, learning_rate=invscaling, max_iter=200, solver=lbfgs, tol=0.0001, score=-1.2360105063061626, total=   5.0s\n",
      "[Parallel(n_jobs=1)]: Done  16 out of  16 | elapsed:   56.8s remaining:    0.0s\n",
      "[CV] alpha=0.0001, hidden_layer_sizes=15, learning_rate=invscaling, max_iter=200, solver=lbfgs, tol=0.0001 \n",
      "[CV]  alpha=0.0001, hidden_layer_sizes=15, learning_rate=invscaling, max_iter=200, solver=lbfgs, tol=0.0001, score=-0.1991734047674858, total=   5.0s\n",
      "[Parallel(n_jobs=1)]: Done  17 out of  17 | elapsed:  1.0min remaining:    0.0s\n",
      "[CV] alpha=0.0001, hidden_layer_sizes=15, learning_rate=invscaling, max_iter=200, solver=lbfgs, tol=0.0001 \n",
      "[CV]  alpha=0.0001, hidden_layer_sizes=15, learning_rate=invscaling, max_iter=200, solver=lbfgs, tol=0.0001, score=-0.3309936798073807, total=   5.0s\n",
      "[Parallel(n_jobs=1)]: Done  18 out of  18 | elapsed:  1.1min remaining:    0.0s\n",
      "[Parallel(n_jobs=1)]: Done  18 out of  18 | elapsed:  1.1min finished\n"
     ]
    },
    {
     "data": {
      "text/plain": [
       "GridSearchCV(cv='warn', error_score='raise-deprecating',\n",
       "       estimator=MLPRegressor(activation='logistic', alpha=0.0001, batch_size='auto',\n",
       "       beta_1=0.9, beta_2=0.999, early_stopping=False, epsilon=1e-08,\n",
       "       hidden_layer_sizes=(100,), learning_rate='constant',\n",
       "       learning_rate_init=0.001, max_iter=200, momentum=0.9,\n",
       "       n_iter_no_change=10, nesterovs_momentum=True, power_t=0.5,\n",
       "       random_state=None, shuffle=True, solver='adam', tol=0.0001,\n",
       "       validation_fraction=0.1, verbose=False, warm_start=False),\n",
       "       fit_params=None, iid='warn', n_jobs=1,\n",
       "       param_grid={'solver': ['lbfgs'], 'learning_rate': ['adaptive', 'invscaling'], 'alpha': [0.0001], 'max_iter': [200], 'tol': [0.0001], 'hidden_layer_sizes': [5, 10, 15]},\n",
       "       pre_dispatch='2*n_jobs', refit=True, return_train_score='warn',\n",
       "       scoring=None, verbose=100)"
      ]
     },
     "execution_count": 13,
     "metadata": {},
     "output_type": "execute_result"
    }
   ],
   "source": [
    "# Tests training features and targets with different neural network options\n",
    "est = mlp_regressor_grid_search()\n",
    "est.fit(scaled_train_features, train_targets)\n"
   ]
  },
  {
   "cell_type": "code",
   "execution_count": 14,
   "metadata": {},
   "outputs": [
    {
     "name": "stdout",
     "output_type": "stream",
     "text": [
      "MLPRegressor(activation='logistic', alpha=0.0001, batch_size='auto',\n",
      "       beta_1=0.9, beta_2=0.999, early_stopping=False, epsilon=1e-08,\n",
      "       hidden_layer_sizes=5, learning_rate='invscaling',\n",
      "       learning_rate_init=0.001, max_iter=200, momentum=0.9,\n",
      "       n_iter_no_change=10, nesterovs_momentum=True, power_t=0.5,\n",
      "       random_state=None, shuffle=True, solver='lbfgs', tol=0.0001,\n",
      "       validation_fraction=0.1, verbose=False, warm_start=False)\n"
     ]
    }
   ],
   "source": [
    "# Print best hyper parameters for model\n",
    "print(est.best_estimator_)"
   ]
  },
  {
   "cell_type": "code",
   "execution_count": 15,
   "metadata": {},
   "outputs": [
    {
     "name": "stdout",
     "output_type": "stream",
     "text": [
      "-0.04382392500662258\n"
     ]
    }
   ],
   "source": [
    "# Print score for best estimator on test data\n",
    "print(est.score(scaler.transform(test_features), test_targets))"
   ]
  },
  {
   "cell_type": "code",
   "execution_count": 25,
   "metadata": {
    "scrolled": true
   },
   "outputs": [
    {
     "name": "stdout",
     "output_type": "stream",
     "text": [
      "-0.037212232632130915\n",
      "-0.03721184483273543\n",
      "-0.04100192875156794\n"
     ]
    },
    {
     "name": "stderr",
     "output_type": "stream",
     "text": [
      "/anaconda3/lib/python3.6/site-packages/sklearn/model_selection/_split.py:2053: FutureWarning: You should specify a value for 'cv' instead of relying on the default value. The default value will change from 3 to 5 in version 0.22.\n",
      "  warnings.warn(CV_WARNING, FutureWarning)\n"
     ]
    },
    {
     "name": "stdout",
     "output_type": "stream",
     "text": [
      "-0.02894683347857363\n",
      "-1.5159050448665052\n",
      "-1.3419343204242695\n",
      "-0.4029413881576702\n",
      "-1.3481834848841676\n",
      "-1.4122764592253563\n"
     ]
    }
   ],
   "source": [
    "# Test algorithms for performance.\n",
    "for model in models:\n",
    "    est = model\n",
    "    est.fit(scaled_train_features, train_targets)\n",
    "    print(est.score(scaler.transform(test_features), test_targets))"
   ]
  },
  {
   "cell_type": "code",
   "execution_count": 26,
   "metadata": {},
   "outputs": [
    {
     "name": "stdout",
     "output_type": "stream",
     "text": [
      "PREDICTION: [12.2]\n"
     ]
    }
   ],
   "source": [
    "# Use features to print a prediction\n",
    "predict_data = [[2.0,20.0,1.0,2.0,8.0,44.0]]\n",
    "scaled_predict = scaler.transform(predict_data)\n",
    "\n",
    "\n",
    "prediction = est.predict(scaled_predict)\n",
    "print(\"PREDICTION:\", prediction)\n"
   ]
  },
  {
   "cell_type": "code",
   "execution_count": null,
   "metadata": {},
   "outputs": [],
   "source": [
    "est = ElasticNetCV()\n",
    "est.fit(scaled_train_features, train_targets)\n"
   ]
  }
 ],
 "metadata": {
  "kernelspec": {
   "display_name": "Python 3",
   "language": "python",
   "name": "python3"
  },
  "language_info": {
   "codemirror_mode": {
    "name": "ipython",
    "version": 3
   },
   "file_extension": ".py",
   "mimetype": "text/x-python",
   "name": "python",
   "nbconvert_exporter": "python",
   "pygments_lexer": "ipython3",
   "version": "3.6.8"
  }
 },
 "nbformat": 4,
 "nbformat_minor": 2
}
