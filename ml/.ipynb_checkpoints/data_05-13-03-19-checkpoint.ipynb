{
 "cells": [
  {
   "cell_type": "code",
   "execution_count": 2,
   "metadata": {},
   "outputs": [],
   "source": [
    "# Import package pandas for data analysis\n",
    "# Set to display enough columns\n",
    "import pandas as pd\n",
    "pd.set_option('display.max_columns', 100)\n",
    "\n",
    "# Import package numpy for numeric computing\n",
    "import numpy as np\n",
    "\n",
    "# Import package matplotlib for visualisation/plotting\n",
    "import matplotlib.pyplot as plt\n",
    "import matplotlib.patches as mpatches\n",
    "\n",
    "# Import to allow PDF of multiple pages\n",
    "from matplotlib.backends.backend_pdf import PdfPages\n",
    "\n",
    "# Import Seaborn for visualistaion library\n",
    "import seaborn as sns\n",
    "\n",
    "#For showing plots directly in the notebook run the command below\n",
    "%matplotlib inline"
   ]
  },
  {
   "cell_type": "code",
   "execution_count": 4,
   "metadata": {},
   "outputs": [],
   "source": [
    "# Read in csv file\n",
    "df = pd.read_csv('05-13-03-19_results.csv')"
   ]
  },
  {
   "cell_type": "code",
   "execution_count": 6,
   "metadata": {},
   "outputs": [
    {
     "name": "stdout",
     "output_type": "stream",
     "text": [
      "The file has 163005 rows and 13 columns\n"
     ]
    }
   ],
   "source": [
    "# Check how many rows and columns the dataframe has\n",
    "print ('The file has', df.shape[0], 'rows and', df.shape[1], 'columns')"
   ]
  },
  {
   "cell_type": "code",
   "execution_count": 8,
   "metadata": {},
   "outputs": [
    {
     "data": {
      "text/html": [
       "<div>\n",
       "<style scoped>\n",
       "    .dataframe tbody tr th:only-of-type {\n",
       "        vertical-align: middle;\n",
       "    }\n",
       "\n",
       "    .dataframe tbody tr th {\n",
       "        vertical-align: top;\n",
       "    }\n",
       "\n",
       "    .dataframe thead th {\n",
       "        text-align: right;\n",
       "    }\n",
       "</style>\n",
       "<table border=\"1\" class=\"dataframe\">\n",
       "  <thead>\n",
       "    <tr style=\"text-align: right;\">\n",
       "      <th></th>\n",
       "      <th>Blessington Street</th>\n",
       "      <th>Dublin</th>\n",
       "      <th>BLESSINGTON STREET</th>\n",
       "      <th>2019-03-05 00:05:08</th>\n",
       "      <th>-6.26814000</th>\n",
       "      <th>53.35676900</th>\n",
       "      <th>OPEN</th>\n",
       "      <th>14</th>\n",
       "      <th>0</th>\n",
       "      <th>6</th>\n",
       "      <th>2</th>\n",
       "      <th>20</th>\n",
       "      <th>1</th>\n",
       "    </tr>\n",
       "  </thead>\n",
       "  <tbody>\n",
       "    <tr>\n",
       "      <th>0</th>\n",
       "      <td>Blessington Street</td>\n",
       "      <td>Dublin</td>\n",
       "      <td>BLESSINGTON STREET</td>\n",
       "      <td>2019-03-05 00:15:17</td>\n",
       "      <td>-6.26814</td>\n",
       "      <td>53.356769</td>\n",
       "      <td>OPEN</td>\n",
       "      <td>14</td>\n",
       "      <td>0</td>\n",
       "      <td>6</td>\n",
       "      <td>2</td>\n",
       "      <td>20</td>\n",
       "      <td>1</td>\n",
       "    </tr>\n",
       "    <tr>\n",
       "      <th>1</th>\n",
       "      <td>Blessington Street</td>\n",
       "      <td>Dublin</td>\n",
       "      <td>BLESSINGTON STREET</td>\n",
       "      <td>2019-03-05 00:25:26</td>\n",
       "      <td>-6.26814</td>\n",
       "      <td>53.356769</td>\n",
       "      <td>OPEN</td>\n",
       "      <td>14</td>\n",
       "      <td>0</td>\n",
       "      <td>6</td>\n",
       "      <td>2</td>\n",
       "      <td>20</td>\n",
       "      <td>1</td>\n",
       "    </tr>\n",
       "    <tr>\n",
       "      <th>2</th>\n",
       "      <td>Blessington Street</td>\n",
       "      <td>Dublin</td>\n",
       "      <td>BLESSINGTON STREET</td>\n",
       "      <td>2019-03-05 00:32:29</td>\n",
       "      <td>-6.26814</td>\n",
       "      <td>53.356769</td>\n",
       "      <td>OPEN</td>\n",
       "      <td>14</td>\n",
       "      <td>0</td>\n",
       "      <td>6</td>\n",
       "      <td>2</td>\n",
       "      <td>20</td>\n",
       "      <td>1</td>\n",
       "    </tr>\n",
       "    <tr>\n",
       "      <th>3</th>\n",
       "      <td>Blessington Street</td>\n",
       "      <td>Dublin</td>\n",
       "      <td>BLESSINGTON STREET</td>\n",
       "      <td>2019-03-05 00:42:39</td>\n",
       "      <td>-6.26814</td>\n",
       "      <td>53.356769</td>\n",
       "      <td>OPEN</td>\n",
       "      <td>14</td>\n",
       "      <td>0</td>\n",
       "      <td>6</td>\n",
       "      <td>2</td>\n",
       "      <td>20</td>\n",
       "      <td>1</td>\n",
       "    </tr>\n",
       "    <tr>\n",
       "      <th>4</th>\n",
       "      <td>Blessington Street</td>\n",
       "      <td>Dublin</td>\n",
       "      <td>BLESSINGTON STREET</td>\n",
       "      <td>2019-03-05 00:52:48</td>\n",
       "      <td>-6.26814</td>\n",
       "      <td>53.356769</td>\n",
       "      <td>OPEN</td>\n",
       "      <td>14</td>\n",
       "      <td>0</td>\n",
       "      <td>6</td>\n",
       "      <td>2</td>\n",
       "      <td>20</td>\n",
       "      <td>1</td>\n",
       "    </tr>\n",
       "  </tbody>\n",
       "</table>\n",
       "</div>"
      ],
      "text/plain": [
       "   Blessington Street  Dublin  BLESSINGTON STREET  2019-03-05 00:05:08  \\\n",
       "0  Blessington Street  Dublin  BLESSINGTON STREET  2019-03-05 00:15:17   \n",
       "1  Blessington Street  Dublin  BLESSINGTON STREET  2019-03-05 00:25:26   \n",
       "2  Blessington Street  Dublin  BLESSINGTON STREET  2019-03-05 00:32:29   \n",
       "3  Blessington Street  Dublin  BLESSINGTON STREET  2019-03-05 00:42:39   \n",
       "4  Blessington Street  Dublin  BLESSINGTON STREET  2019-03-05 00:52:48   \n",
       "\n",
       "   -6.26814000  53.35676900  OPEN  14  0  6  2  20  1  \n",
       "0     -6.26814    53.356769  OPEN  14  0  6  2  20  1  \n",
       "1     -6.26814    53.356769  OPEN  14  0  6  2  20  1  \n",
       "2     -6.26814    53.356769  OPEN  14  0  6  2  20  1  \n",
       "3     -6.26814    53.356769  OPEN  14  0  6  2  20  1  \n",
       "4     -6.26814    53.356769  OPEN  14  0  6  2  20  1  "
      ]
     },
     "execution_count": 8,
     "metadata": {},
     "output_type": "execute_result"
    }
   ],
   "source": [
    "df.head(5)"
   ]
  },
  {
   "cell_type": "code",
   "execution_count": 10,
   "metadata": {},
   "outputs": [
    {
     "data": {
      "text/plain": [
       "Blessington Street      object\n",
       "Dublin                  object\n",
       "BLESSINGTON STREET      object\n",
       "2019-03-05 00:05:08     object\n",
       "-6.26814000            float64\n",
       "53.35676900            float64\n",
       "OPEN                    object\n",
       "14                       int64\n",
       "0                        int64\n",
       "6                        int64\n",
       "2                        int64\n",
       "20                       int64\n",
       "1                        int64\n",
       "dtype: object"
      ]
     },
     "execution_count": 10,
     "metadata": {},
     "output_type": "execute_result"
    }
   ],
   "source": [
    "# Check data types\n",
    "df.dtypes"
   ]
  },
  {
   "cell_type": "markdown",
   "metadata": {},
   "source": [
    "Date and time will need to be seperated in to columns. One for hours, one for minutes and one for day of the week. Make three new columns."
   ]
  },
  {
   "cell_type": "code",
   "execution_count": null,
   "metadata": {},
   "outputs": [],
   "source": []
  }
 ],
 "metadata": {
  "kernelspec": {
   "display_name": "Python 3",
   "language": "python",
   "name": "python3"
  },
  "language_info": {
   "codemirror_mode": {
    "name": "ipython",
    "version": 3
   },
   "file_extension": ".py",
   "mimetype": "text/x-python",
   "name": "python",
   "nbconvert_exporter": "python",
   "pygments_lexer": "ipython3",
   "version": "3.6.8"
  }
 },
 "nbformat": 4,
 "nbformat_minor": 2
}
