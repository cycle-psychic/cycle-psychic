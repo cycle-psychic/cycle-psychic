{
 "cells": [
  {
   "cell_type": "code",
   "execution_count": 257,
   "metadata": {},
   "outputs": [],
   "source": [
    "#Import pandas and scikitlearn for Machine Learning Models\n",
    "import pandas as pd\n",
    "import matplotlib.pyplot as plt\n",
    "from sklearn.metrics import mean_squared_error\n",
    "from sklearn.metrics import mean_absolute_error\n",
    "from sklearn.preprocessing import StandardScaler\n",
    "from sklearn.neural_network import MLPRegressor\n",
    "from sklearn.model_selection import GridSearchCV\n",
    "from sklearn.tree import DecisionTreeRegressor\n",
    "from sklearn.linear_model import LinearRegression, Ridge, HuberRegressor, ElasticNetCV\n",
    "from sklearn.ensemble import BaggingRegressor, ExtraTreesRegressor, GradientBoostingRegressor, RandomForestRegressor\n",
    "import numpy as np\n",
    "\n",
    "# Pickle saves the model\n",
    "import pickle\n",
    "\n",
    "import math\n"
   ]
  },
  {
   "cell_type": "code",
   "execution_count": 347,
   "metadata": {},
   "outputs": [],
   "source": [
    "# Read in cleaned results\n",
    "df = pd.read_csv('bike_weather_data.csv')"
   ]
  },
  {
   "cell_type": "code",
   "execution_count": 348,
   "metadata": {},
   "outputs": [],
   "source": [
    "df = df.loc[df['number'] == 5]"
   ]
  },
  {
   "cell_type": "code",
   "execution_count": 349,
   "metadata": {
    "scrolled": true
   },
   "outputs": [],
   "source": [
    "# Transform to a 2D array and assign features and target\n",
    "# Available bikes as target. Another model can be done for available stands if needed.\n",
    "features = df[['number', 'hour', 'minute',\n",
    "              'main_temp', 'main_wind_speed', 'main_rain_volume_1h', 'main_snow_volume_1h',\n",
    "              'Monday', 'Tuesday', 'Wednesday', 'Thursday', 'Friday', 'Saturday',\n",
    "              'Sunday', 'clouds', 'atmosphere', 'snow', 'light_rain',\n",
    "              'rain', 'light_drizzle', 'drizzle', 'thunderstorm']].values\n",
    "targets = df['available_bikes'].values\n"
   ]
  },
  {
   "cell_type": "code",
   "execution_count": 350,
   "metadata": {},
   "outputs": [],
   "source": [
    "# Cycles through neural network options and selects the most accurate.\n",
    "def mlp_regressor_grid_search():\n",
    "    est = MLPRegressor(activation= 'logistic')\n",
    "    sizes = []\n",
    "    for size1 in range(5, 20, 5):\n",
    "        sizes.append(size1)\n",
    "\n",
    "    param_grid = dict(solver=['lbfgs'], #'sgd','adam'\n",
    "                      learning_rate=['adaptive','invscaling'],\n",
    "                      alpha=[0.0001], # [0.0005, 0.001, 0.005, 0.01]\n",
    "                      max_iter=[200], #np.arange(200, 300, 20)\n",
    "                      tol=[0.0001], #np.arange(0.00001, 0.0001, 0.00001)\n",
    "                      hidden_layer_sizes=sizes)\n",
    "    return GridSearchCV(est, param_grid=param_grid, n_jobs=1, verbose=100)\n"
   ]
  },
  {
   "cell_type": "code",
   "execution_count": 351,
   "metadata": {},
   "outputs": [],
   "source": [
    "models = [LinearRegression(),\n",
    "          Ridge(),\n",
    "          HuberRegressor(),\n",
    "          ElasticNetCV(),\n",
    "          DecisionTreeRegressor(), \n",
    "          ExtraTreesRegressor(),\n",
    "          GradientBoostingRegressor(),\n",
    "          RandomForestRegressor(),\n",
    "          BaggingRegressor()]\n"
   ]
  },
  {
   "cell_type": "code",
   "execution_count": 352,
   "metadata": {},
   "outputs": [],
   "source": [
    "# Split the data set into test and training data.\n",
    "def split_by_position(features, targets):\n",
    "    \"\"\"\n",
    "    train 0.80\n",
    "    test 0.20\n",
    "    \"\"\"\n",
    "    len_train = int(0.80 * len(features))\n",
    "    train_features = features[0:len_train]\n",
    "    train_targets = targets[0:len_train]\n",
    "    test_features = features[len_train:]\n",
    "    test_targets = targets[len_train:]\n",
    "    return train_features, test_features, train_targets, test_targets\n"
   ]
  },
  {
   "cell_type": "code",
   "execution_count": 353,
   "metadata": {},
   "outputs": [],
   "source": [
    "# Assign training features and target and test features and target\n",
    "train_features, test_features, train_targets, test_targets = split_by_position(features, targets)\n",
    "\n"
   ]
  },
  {
   "cell_type": "code",
   "execution_count": 354,
   "metadata": {},
   "outputs": [],
   "source": [
    "# Normalise the features for training\n",
    "scaler = StandardScaler()\n",
    "scaler.fit(train_features)\n",
    "scaled_train_features = scaler.transform(train_features)\n"
   ]
  },
  {
   "cell_type": "code",
   "execution_count": 355,
   "metadata": {
    "scrolled": true
   },
   "outputs": [
    {
     "name": "stderr",
     "output_type": "stream",
     "text": [
      "/anaconda3/lib/python3.6/site-packages/sklearn/model_selection/_split.py:2053: FutureWarning: You should specify a value for 'cv' instead of relying on the default value. The default value will change from 3 to 5 in version 0.22.\n",
      "  warnings.warn(CV_WARNING, FutureWarning)\n"
     ]
    },
    {
     "name": "stdout",
     "output_type": "stream",
     "text": [
      "Fitting 3 folds for each of 6 candidates, totalling 18 fits\n",
      "[Parallel(n_jobs=1)]: Using backend SequentialBackend with 1 concurrent workers.\n",
      "[CV] alpha=0.0001, hidden_layer_sizes=5, learning_rate=adaptive, max_iter=200, solver=lbfgs, tol=0.0001 \n",
      "[CV]  alpha=0.0001, hidden_layer_sizes=5, learning_rate=adaptive, max_iter=200, solver=lbfgs, tol=0.0001, score=-0.1999195592233565, total=   0.2s\n",
      "[Parallel(n_jobs=1)]: Done   1 out of   1 | elapsed:    0.2s remaining:    0.0s\n",
      "[CV] alpha=0.0001, hidden_layer_sizes=5, learning_rate=adaptive, max_iter=200, solver=lbfgs, tol=0.0001 \n",
      "[CV]  alpha=0.0001, hidden_layer_sizes=5, learning_rate=adaptive, max_iter=200, solver=lbfgs, tol=0.0001, score=-0.6686183847390645, total=   0.3s\n",
      "[Parallel(n_jobs=1)]: Done   2 out of   2 | elapsed:    0.5s remaining:    0.0s\n",
      "[CV] alpha=0.0001, hidden_layer_sizes=5, learning_rate=adaptive, max_iter=200, solver=lbfgs, tol=0.0001 \n",
      "[CV]  alpha=0.0001, hidden_layer_sizes=5, learning_rate=adaptive, max_iter=200, solver=lbfgs, tol=0.0001, score=-0.3887624552760691, total=   0.2s\n",
      "[Parallel(n_jobs=1)]: Done   3 out of   3 | elapsed:    0.8s remaining:    0.0s\n",
      "[CV] alpha=0.0001, hidden_layer_sizes=5, learning_rate=invscaling, max_iter=200, solver=lbfgs, tol=0.0001 \n",
      "[CV]  alpha=0.0001, hidden_layer_sizes=5, learning_rate=invscaling, max_iter=200, solver=lbfgs, tol=0.0001, score=-0.5116399941629, total=   0.3s\n",
      "[Parallel(n_jobs=1)]: Done   4 out of   4 | elapsed:    1.1s remaining:    0.0s\n",
      "[CV] alpha=0.0001, hidden_layer_sizes=5, learning_rate=invscaling, max_iter=200, solver=lbfgs, tol=0.0001 \n",
      "[CV]  alpha=0.0001, hidden_layer_sizes=5, learning_rate=invscaling, max_iter=200, solver=lbfgs, tol=0.0001, score=-0.33488311451301267, total=   0.3s\n",
      "[Parallel(n_jobs=1)]: Done   5 out of   5 | elapsed:    1.3s remaining:    0.0s\n",
      "[CV] alpha=0.0001, hidden_layer_sizes=5, learning_rate=invscaling, max_iter=200, solver=lbfgs, tol=0.0001 \n",
      "[CV]  alpha=0.0001, hidden_layer_sizes=5, learning_rate=invscaling, max_iter=200, solver=lbfgs, tol=0.0001, score=-0.2260995575497342, total=   0.2s\n",
      "[Parallel(n_jobs=1)]: Done   6 out of   6 | elapsed:    1.6s remaining:    0.0s\n",
      "[CV] alpha=0.0001, hidden_layer_sizes=10, learning_rate=adaptive, max_iter=200, solver=lbfgs, tol=0.0001 \n",
      "[CV]  alpha=0.0001, hidden_layer_sizes=10, learning_rate=adaptive, max_iter=200, solver=lbfgs, tol=0.0001, score=-0.4170676734207446, total=   0.4s\n",
      "[Parallel(n_jobs=1)]: Done   7 out of   7 | elapsed:    1.9s remaining:    0.0s\n",
      "[CV] alpha=0.0001, hidden_layer_sizes=10, learning_rate=adaptive, max_iter=200, solver=lbfgs, tol=0.0001 \n",
      "[CV]  alpha=0.0001, hidden_layer_sizes=10, learning_rate=adaptive, max_iter=200, solver=lbfgs, tol=0.0001, score=-0.3760899467476262, total=   0.4s\n",
      "[Parallel(n_jobs=1)]: Done   8 out of   8 | elapsed:    2.3s remaining:    0.0s\n",
      "[CV] alpha=0.0001, hidden_layer_sizes=10, learning_rate=adaptive, max_iter=200, solver=lbfgs, tol=0.0001 \n",
      "[CV]  alpha=0.0001, hidden_layer_sizes=10, learning_rate=adaptive, max_iter=200, solver=lbfgs, tol=0.0001, score=-0.48921247576062066, total=   0.3s\n",
      "[Parallel(n_jobs=1)]: Done   9 out of   9 | elapsed:    2.6s remaining:    0.0s\n",
      "[CV] alpha=0.0001, hidden_layer_sizes=10, learning_rate=invscaling, max_iter=200, solver=lbfgs, tol=0.0001 \n",
      "[CV]  alpha=0.0001, hidden_layer_sizes=10, learning_rate=invscaling, max_iter=200, solver=lbfgs, tol=0.0001, score=-0.4474614756922135, total=   0.3s\n",
      "[Parallel(n_jobs=1)]: Done  10 out of  10 | elapsed:    3.0s remaining:    0.0s\n",
      "[CV] alpha=0.0001, hidden_layer_sizes=10, learning_rate=invscaling, max_iter=200, solver=lbfgs, tol=0.0001 \n",
      "[CV]  alpha=0.0001, hidden_layer_sizes=10, learning_rate=invscaling, max_iter=200, solver=lbfgs, tol=0.0001, score=-0.1921864765203227, total=   0.3s\n",
      "[Parallel(n_jobs=1)]: Done  11 out of  11 | elapsed:    3.3s remaining:    0.0s\n",
      "[CV] alpha=0.0001, hidden_layer_sizes=10, learning_rate=invscaling, max_iter=200, solver=lbfgs, tol=0.0001 \n",
      "[CV]  alpha=0.0001, hidden_layer_sizes=10, learning_rate=invscaling, max_iter=200, solver=lbfgs, tol=0.0001, score=-0.39115889290033756, total=   0.3s\n",
      "[Parallel(n_jobs=1)]: Done  12 out of  12 | elapsed:    3.6s remaining:    0.0s\n",
      "[CV] alpha=0.0001, hidden_layer_sizes=15, learning_rate=adaptive, max_iter=200, solver=lbfgs, tol=0.0001 \n",
      "[CV]  alpha=0.0001, hidden_layer_sizes=15, learning_rate=adaptive, max_iter=200, solver=lbfgs, tol=0.0001, score=-0.4715876383998816, total=   0.5s\n",
      "[Parallel(n_jobs=1)]: Done  13 out of  13 | elapsed:    4.1s remaining:    0.0s\n",
      "[CV] alpha=0.0001, hidden_layer_sizes=15, learning_rate=adaptive, max_iter=200, solver=lbfgs, tol=0.0001 \n",
      "[CV]  alpha=0.0001, hidden_layer_sizes=15, learning_rate=adaptive, max_iter=200, solver=lbfgs, tol=0.0001, score=-0.5988341343883659, total=   0.4s\n",
      "[Parallel(n_jobs=1)]: Done  14 out of  14 | elapsed:    4.5s remaining:    0.0s\n",
      "[CV] alpha=0.0001, hidden_layer_sizes=15, learning_rate=adaptive, max_iter=200, solver=lbfgs, tol=0.0001 \n",
      "[CV]  alpha=0.0001, hidden_layer_sizes=15, learning_rate=adaptive, max_iter=200, solver=lbfgs, tol=0.0001, score=-0.7761183191303724, total=   0.4s\n",
      "[Parallel(n_jobs=1)]: Done  15 out of  15 | elapsed:    5.0s remaining:    0.0s\n",
      "[CV] alpha=0.0001, hidden_layer_sizes=15, learning_rate=invscaling, max_iter=200, solver=lbfgs, tol=0.0001 \n",
      "[CV]  alpha=0.0001, hidden_layer_sizes=15, learning_rate=invscaling, max_iter=200, solver=lbfgs, tol=0.0001, score=-0.7888443519547614, total=   0.4s\n",
      "[Parallel(n_jobs=1)]: Done  16 out of  16 | elapsed:    5.4s remaining:    0.0s\n",
      "[CV] alpha=0.0001, hidden_layer_sizes=15, learning_rate=invscaling, max_iter=200, solver=lbfgs, tol=0.0001 \n",
      "[CV]  alpha=0.0001, hidden_layer_sizes=15, learning_rate=invscaling, max_iter=200, solver=lbfgs, tol=0.0001, score=-0.9987577326183177, total=   0.5s\n",
      "[Parallel(n_jobs=1)]: Done  17 out of  17 | elapsed:    5.9s remaining:    0.0s\n",
      "[CV] alpha=0.0001, hidden_layer_sizes=15, learning_rate=invscaling, max_iter=200, solver=lbfgs, tol=0.0001 \n",
      "[CV]  alpha=0.0001, hidden_layer_sizes=15, learning_rate=invscaling, max_iter=200, solver=lbfgs, tol=0.0001, score=-0.637927139916959, total=   0.5s\n",
      "[Parallel(n_jobs=1)]: Done  18 out of  18 | elapsed:    6.4s remaining:    0.0s\n",
      "[Parallel(n_jobs=1)]: Done  18 out of  18 | elapsed:    6.4s finished\n"
     ]
    },
    {
     "data": {
      "text/plain": [
       "GridSearchCV(cv='warn', error_score='raise-deprecating',\n",
       "       estimator=MLPRegressor(activation='logistic', alpha=0.0001, batch_size='auto',\n",
       "       beta_1=0.9, beta_2=0.999, early_stopping=False, epsilon=1e-08,\n",
       "       hidden_layer_sizes=(100,), learning_rate='constant',\n",
       "       learning_rate_init=0.001, max_iter=200, momentum=0.9,\n",
       "       n_iter_no_change=10, nesterovs_momentum=True, power_t=0.5,\n",
       "       random_state=None, shuffle=True, solver='adam', tol=0.0001,\n",
       "       validation_fraction=0.1, verbose=False, warm_start=False),\n",
       "       fit_params=None, iid='warn', n_jobs=1,\n",
       "       param_grid={'solver': ['lbfgs'], 'learning_rate': ['adaptive', 'invscaling'], 'alpha': [0.0001], 'max_iter': [200], 'tol': [0.0001], 'hidden_layer_sizes': [5, 10, 15]},\n",
       "       pre_dispatch='2*n_jobs', refit=True, return_train_score='warn',\n",
       "       scoring=None, verbose=100)"
      ]
     },
     "execution_count": 355,
     "metadata": {},
     "output_type": "execute_result"
    }
   ],
   "source": [
    "# Tests training features and targets with different neural network options\n",
    "est = mlp_regressor_grid_search()\n",
    "est.fit(scaled_train_features, train_targets)\n"
   ]
  },
  {
   "cell_type": "code",
   "execution_count": 356,
   "metadata": {},
   "outputs": [
    {
     "name": "stdout",
     "output_type": "stream",
     "text": [
      "MLPRegressor(activation='logistic', alpha=0.0001, batch_size='auto',\n",
      "       beta_1=0.9, beta_2=0.999, early_stopping=False, epsilon=1e-08,\n",
      "       hidden_layer_sizes=10, learning_rate='invscaling',\n",
      "       learning_rate_init=0.001, max_iter=200, momentum=0.9,\n",
      "       n_iter_no_change=10, nesterovs_momentum=True, power_t=0.5,\n",
      "       random_state=None, shuffle=True, solver='lbfgs', tol=0.0001,\n",
      "       validation_fraction=0.1, verbose=False, warm_start=False)\n"
     ]
    }
   ],
   "source": [
    "# Print best hyper parameters for model\n",
    "print(est.best_estimator_)"
   ]
  },
  {
   "cell_type": "code",
   "execution_count": 357,
   "metadata": {},
   "outputs": [
    {
     "name": "stdout",
     "output_type": "stream",
     "text": [
      "0.1263333613945694\n"
     ]
    }
   ],
   "source": [
    "# Print score for best estimator on test data\n",
    "print(est.score(scaler.transform(test_features), test_targets))\n"
   ]
  },
  {
   "cell_type": "code",
   "execution_count": 358,
   "metadata": {
    "scrolled": true
   },
   "outputs": [
    {
     "name": "stdout",
     "output_type": "stream",
     "text": [
      "0.013767548813688801\n",
      "0.01398414385108282\n",
      "-0.020388358254745498\n",
      "-0.035634563143471576\n",
      "0.12346219727527896\n"
     ]
    },
    {
     "name": "stderr",
     "output_type": "stream",
     "text": [
      "/anaconda3/lib/python3.6/site-packages/sklearn/model_selection/_split.py:2053: FutureWarning: You should specify a value for 'cv' instead of relying on the default value. The default value will change from 3 to 5 in version 0.22.\n",
      "  warnings.warn(CV_WARNING, FutureWarning)\n",
      "/anaconda3/lib/python3.6/site-packages/sklearn/ensemble/forest.py:246: FutureWarning: The default value of n_estimators will change from 10 in version 0.20 to 100 in 0.22.\n",
      "  \"10 in version 0.20 to 100 in 0.22.\", FutureWarning)\n"
     ]
    },
    {
     "name": "stdout",
     "output_type": "stream",
     "text": [
      "0.31881711915318034\n",
      "0.3559595153575985\n",
      "0.36273321351007337\n"
     ]
    },
    {
     "name": "stderr",
     "output_type": "stream",
     "text": [
      "/anaconda3/lib/python3.6/site-packages/sklearn/ensemble/forest.py:246: FutureWarning: The default value of n_estimators will change from 10 in version 0.20 to 100 in 0.22.\n",
      "  \"10 in version 0.20 to 100 in 0.22.\", FutureWarning)\n"
     ]
    },
    {
     "name": "stdout",
     "output_type": "stream",
     "text": [
      "0.3701496398240817\n"
     ]
    }
   ],
   "source": [
    "# Test algorithms for performance.\n",
    "for model in models:\n",
    "    est = model\n",
    "    est.fit(scaled_train_features, train_targets)\n",
    "    print(est.score(scaler.transform(test_features), test_targets))"
   ]
  },
  {
   "cell_type": "markdown",
   "metadata": {},
   "source": [
    "ExtraTrees - no alteration\n",
    "\n",
    "0.11825679195687633\n",
    "\n",
    "For all models:\n",
    "\n",
    "0.012663067202476341\n",
    "0.012660621258087978\n",
    "-0.029618304713565413\n",
    "\n",
    "0.012624214970299086\n",
    "0.6871957436347627\n",
    "\n",
    "0.8140946056581033\n",
    "0.23435545657540113\n",
    "\n",
    "0.7898846535251685\n",
    "0.7895787539140001"
   ]
  },
  {
   "cell_type": "code",
   "execution_count": 359,
   "metadata": {},
   "outputs": [
    {
     "data": {
      "text/plain": [
       "94.57510507907776"
      ]
     },
     "execution_count": 359,
     "metadata": {},
     "output_type": "execute_result"
    }
   ],
   "source": [
    "# Get mean square error regression loss\n",
    "est = GradientBoostingRegressor()\n",
    "est.fit(scaled_train_features, train_targets)\n",
    "test_predictions = est.predict(scaler.transform(test_features))\n",
    "mean_squared_error(test_targets, test_predictions)\n",
    "\n",
    "# 11.49 for station 54\n",
    "# for all stations 21.6"
   ]
  },
  {
   "cell_type": "code",
   "execution_count": 360,
   "metadata": {},
   "outputs": [
    {
     "data": {
      "text/plain": [
       "7.828331683758673"
      ]
     },
     "execution_count": 360,
     "metadata": {},
     "output_type": "execute_result"
    }
   ],
   "source": [
    "mean_absolute_error(test_targets, test_predictions)\n",
    "# 2.086 for station 54\n",
    "# for all stations 2.84"
   ]
  },
  {
   "cell_type": "code",
   "execution_count": 362,
   "metadata": {},
   "outputs": [
    {
     "name": "stdout",
     "output_type": "stream",
     "text": [
      "PREDICTION: 22\n"
     ]
    }
   ],
   "source": [
    "# Use features to print a prediction\n",
    "# features = df[['number', 'hour', 'minute',\n",
    " #  'main_temp', 'main_wind_speed', 'main_rain_volume_1h', 'main_snow_volume_1h',\n",
    "#   'Monday', 'Tuesday', 'Wednesday', 'Thursday', 'Friday', 'Saturday',\n",
    "#   'Sunday', 'clouds', 'atmosphere', 'snow', 'light_rain',\n",
    "#   'rain', 'light_drizzle', 'drizzle', 'thunderstorm']].values\n",
    "est = GradientBoostingRegressor()\n",
    "est.fit(scaled_train_features, train_targets)\n",
    "predict_data = [[54,19, 0,277.31,9.3, 0.51, 0, 0, 0, 1, 0, 0, 0, 0, \n",
    "                 0,0,0,1,0,0,0,0]]\n",
    "scaled_predict = scaler.transform(predict_data)\n",
    "\n",
    "\n",
    "\n",
    "\n",
    "prediction = est.predict(scaled_predict)\n",
    "print(\"PREDICTION:\", math.floor(prediction))\n"
   ]
  },
  {
   "cell_type": "code",
   "execution_count": 343,
   "metadata": {},
   "outputs": [],
   "source": [
    "# Using elastic net CV as seems to be the best fit currently\n",
    "# Pickle saves the model\n",
    "est = GradientBoostingRegressor()\n",
    "est.fit(scaled_train_features, train_targets)\n",
    "filename_est = '../app/model.sav'\n",
    "filename_scaler = '../app/scaler.sav'\n",
    "pickle.dump(est, open(filename_est, 'wb'))\n",
    "pickle.dump(scaler, open(filename_scaler, 'wb'))\n"
   ]
  },
  {
   "cell_type": "code",
   "execution_count": 363,
   "metadata": {},
   "outputs": [
    {
     "name": "stdout",
     "output_type": "stream",
     "text": [
      "[12. 13. 13. ...  0.  2.  0.]\n"
     ]
    }
   ],
   "source": [
    "print(test_targets)"
   ]
  },
  {
   "cell_type": "code",
   "execution_count": 364,
   "metadata": {},
   "outputs": [
    {
     "name": "stdout",
     "output_type": "stream",
     "text": [
      "[5. 4. 9. ... 3. 3. 3.]\n"
     ]
    }
   ],
   "source": [
    "print(np.round(test_predictions))"
   ]
  },
  {
   "cell_type": "code",
   "execution_count": 365,
   "metadata": {},
   "outputs": [
    {
     "data": {
      "text/plain": [
       "<matplotlib.legend.Legend at 0x1a1bc31748>"
      ]
     },
     "execution_count": 365,
     "metadata": {},
     "output_type": "execute_result"
    },
    {
     "data": {
      "image/png": "[encoded data removed]",
      "text/plain": [
       "<Figure size 432x288 with 1 Axes>"
      ]
     },
     "metadata": {
      "needs_background": "light"
     },
     "output_type": "display_data"
    }
   ],
   "source": [
    "plt.plot(test_targets, label='real')\n",
    "plt.plot(np.round(test_predictions), label='predicted')\n",
    "plt.legend()"
   ]
  }
 ],
 "metadata": {
  "kernelspec": {
   "display_name": "Python 2",
   "language": "python",
   "name": "python2"
  },
  "language_info": {
   "codemirror_mode": {
    "name": "ipython",
    "version": 3
   },
   "file_extension": ".py",
   "mimetype": "text/x-python",
   "name": "python",
   "nbconvert_exporter": "python",
   "pygments_lexer": "ipython3",
   "version": "3.6.8"
  }
 },
 "nbformat": 4,
 "nbformat_minor": 2
}
