{
 "cells": [
  {
   "cell_type": "code",
   "execution_count": 42,
   "metadata": {},
   "outputs": [],
   "source": [
    "#Import pandas and scikitlearn for ML\n",
    "import pandas as pd\n",
    "from sklearn.preprocessing import StandardScaler\n",
    "from sklearn.neural_network import MLPRegressor\n",
    "from sklearn.model_selection import GridSearchCV"
   ]
  },
  {
   "cell_type": "code",
   "execution_count": 43,
   "metadata": {},
   "outputs": [],
   "source": [
    "# Read in cleaned results\n",
    "df = pd.read_csv('05-13-03-19_results_cleaned.csv')"
   ]
  },
  {
   "cell_type": "code",
   "execution_count": 44,
   "metadata": {
    "scrolled": true
   },
   "outputs": [],
   "source": [
    "# Transform to a 2D array and assign features and target\n",
    "# Available bikes as target. Another model can be done for available stands if needed.\n",
    "features = df[['bike_stands', 'number', 'banking', 'weekday', 'hour', 'minute']].values\n",
    "target = df['available_bikes'].values\n"
   ]
  },
  {
   "cell_type": "code",
   "execution_count": 45,
   "metadata": {},
   "outputs": [],
   "source": [
    "# Cycles through neural network options and selects the most accurate.\n",
    "def mlp_regressor_grid_search():\n",
    "    est = MLPRegressor(activation= 'logistic')\n",
    "    sizes = []\n",
    "    for size1 in range(5, 20, 5):\n",
    "        sizes.append(size1)\n",
    "\n",
    "    param_grid = dict(solver=['lbfgs'], #'sgd','adam'\n",
    "                      learning_rate=['adaptive','invscaling'],\n",
    "                      alpha=[0.0001], # [0.0005, 0.001, 0.005, 0.01]\n",
    "                      max_iter=[200], #np.arange(200, 300, 20)\n",
    "                      tol=[0.0001], #np.arange(0.00001, 0.0001, 0.00001)\n",
    "                      hidden_layer_sizes=sizes)\n",
    "    return GridSearchCV(est, param_grid=param_grid, n_jobs=1, verbose=100)\n"
   ]
  },
  {
   "cell_type": "code",
   "execution_count": 46,
   "metadata": {},
   "outputs": [],
   "source": [
    "# Split the data set into test and training data.\n",
    "def split_by_position(features, targets):\n",
    "    \"\"\"\n",
    "    train 0.80\n",
    "    test 0.20\n",
    "    \"\"\"\n",
    "    len_train = int(0.80 * len(features))\n",
    "    train_features = features[0:len_train]\n",
    "    train_targets = targets[0:len_train]\n",
    "    test_features = features[len_train:]\n",
    "    test_targets = targets[len_train:]\n",
    "    return train_features, test_features, train_targets, test_targets\n"
   ]
  },
  {
   "cell_type": "code",
   "execution_count": 47,
   "metadata": {},
   "outputs": [],
   "source": [
    "# Assign training features and target and test features and target\n",
    "train_features, test_features, train_targets, test_targets = split_by_position(features, targets)\n",
    "\n"
   ]
  },
  {
   "cell_type": "code",
   "execution_count": 48,
   "metadata": {},
   "outputs": [],
   "source": [
    "# Normalise the features for training\n",
    "scaler = StandardScaler()\n",
    "scaler.fit(train_features)\n",
    "scaled_train_features = scaler.transform(train_features)\n"
   ]
  },
  {
   "cell_type": "code",
   "execution_count": 49,
   "metadata": {
    "scrolled": true
   },
   "outputs": [
    {
     "name": "stderr",
     "output_type": "stream",
     "text": [
      "/anaconda3/lib/python3.6/site-packages/sklearn/model_selection/_split.py:2053: FutureWarning: You should specify a value for 'cv' instead of relying on the default value. The default value will change from 3 to 5 in version 0.22.\n",
      "  warnings.warn(CV_WARNING, FutureWarning)\n"
     ]
    },
    {
     "name": "stdout",
     "output_type": "stream",
     "text": [
      "Fitting 3 folds for each of 6 candidates, totalling 18 fits\n",
      "[Parallel(n_jobs=1)]: Using backend SequentialBackend with 1 concurrent workers.\n",
      "[CV] alpha=0.0001, hidden_layer_sizes=5, learning_rate=adaptive, max_iter=200, solver=lbfgs, tol=0.0001 \n",
      "[CV]  alpha=0.0001, hidden_layer_sizes=5, learning_rate=adaptive, max_iter=200, solver=lbfgs, tol=0.0001, score=-0.1675651152286699, total=   2.0s\n",
      "[Parallel(n_jobs=1)]: Done   1 out of   1 | elapsed:    2.0s remaining:    0.0s\n",
      "[CV] alpha=0.0001, hidden_layer_sizes=5, learning_rate=adaptive, max_iter=200, solver=lbfgs, tol=0.0001 \n",
      "[CV]  alpha=0.0001, hidden_layer_sizes=5, learning_rate=adaptive, max_iter=200, solver=lbfgs, tol=0.0001, score=0.03387496196648687, total=   2.0s\n",
      "[Parallel(n_jobs=1)]: Done   2 out of   2 | elapsed:    4.1s remaining:    0.0s\n",
      "[CV] alpha=0.0001, hidden_layer_sizes=5, learning_rate=adaptive, max_iter=200, solver=lbfgs, tol=0.0001 \n",
      "[CV]  alpha=0.0001, hidden_layer_sizes=5, learning_rate=adaptive, max_iter=200, solver=lbfgs, tol=0.0001, score=-0.012042067350026109, total=   2.0s\n",
      "[Parallel(n_jobs=1)]: Done   3 out of   3 | elapsed:    6.1s remaining:    0.0s\n",
      "[CV] alpha=0.0001, hidden_layer_sizes=5, learning_rate=invscaling, max_iter=200, solver=lbfgs, tol=0.0001 \n",
      "[CV]  alpha=0.0001, hidden_layer_sizes=5, learning_rate=invscaling, max_iter=200, solver=lbfgs, tol=0.0001, score=-0.3646088952560982, total=   2.0s\n",
      "[Parallel(n_jobs=1)]: Done   4 out of   4 | elapsed:    8.2s remaining:    0.0s\n",
      "[CV] alpha=0.0001, hidden_layer_sizes=5, learning_rate=invscaling, max_iter=200, solver=lbfgs, tol=0.0001 \n",
      "[CV]  alpha=0.0001, hidden_layer_sizes=5, learning_rate=invscaling, max_iter=200, solver=lbfgs, tol=0.0001, score=0.04185808991302764, total=   2.1s\n",
      "[Parallel(n_jobs=1)]: Done   5 out of   5 | elapsed:   10.3s remaining:    0.0s\n",
      "[CV] alpha=0.0001, hidden_layer_sizes=5, learning_rate=invscaling, max_iter=200, solver=lbfgs, tol=0.0001 \n",
      "[CV]  alpha=0.0001, hidden_layer_sizes=5, learning_rate=invscaling, max_iter=200, solver=lbfgs, tol=0.0001, score=0.01798740199771709, total=   2.1s\n",
      "[Parallel(n_jobs=1)]: Done   6 out of   6 | elapsed:   12.4s remaining:    0.0s\n",
      "[CV] alpha=0.0001, hidden_layer_sizes=10, learning_rate=adaptive, max_iter=200, solver=lbfgs, tol=0.0001 \n",
      "[CV]  alpha=0.0001, hidden_layer_sizes=10, learning_rate=adaptive, max_iter=200, solver=lbfgs, tol=0.0001, score=-0.9959663185488119, total=   3.4s\n",
      "[Parallel(n_jobs=1)]: Done   7 out of   7 | elapsed:   15.8s remaining:    0.0s\n",
      "[CV] alpha=0.0001, hidden_layer_sizes=10, learning_rate=adaptive, max_iter=200, solver=lbfgs, tol=0.0001 \n",
      "[CV]  alpha=0.0001, hidden_layer_sizes=10, learning_rate=adaptive, max_iter=200, solver=lbfgs, tol=0.0001, score=-0.06698755626419883, total=   3.4s\n",
      "[Parallel(n_jobs=1)]: Done   8 out of   8 | elapsed:   19.2s remaining:    0.0s\n",
      "[CV] alpha=0.0001, hidden_layer_sizes=10, learning_rate=adaptive, max_iter=200, solver=lbfgs, tol=0.0001 \n",
      "[CV]  alpha=0.0001, hidden_layer_sizes=10, learning_rate=adaptive, max_iter=200, solver=lbfgs, tol=0.0001, score=-0.1010282858239191, total=   3.4s\n",
      "[Parallel(n_jobs=1)]: Done   9 out of   9 | elapsed:   22.6s remaining:    0.0s\n",
      "[CV] alpha=0.0001, hidden_layer_sizes=10, learning_rate=invscaling, max_iter=200, solver=lbfgs, tol=0.0001 \n",
      "[CV]  alpha=0.0001, hidden_layer_sizes=10, learning_rate=invscaling, max_iter=200, solver=lbfgs, tol=0.0001, score=-0.4599321341247471, total=   3.4s\n",
      "[Parallel(n_jobs=1)]: Done  10 out of  10 | elapsed:   26.0s remaining:    0.0s\n",
      "[CV] alpha=0.0001, hidden_layer_sizes=10, learning_rate=invscaling, max_iter=200, solver=lbfgs, tol=0.0001 \n",
      "[CV]  alpha=0.0001, hidden_layer_sizes=10, learning_rate=invscaling, max_iter=200, solver=lbfgs, tol=0.0001, score=-0.11334246635062306, total=   3.6s\n",
      "[Parallel(n_jobs=1)]: Done  11 out of  11 | elapsed:   29.7s remaining:    0.0s\n",
      "[CV] alpha=0.0001, hidden_layer_sizes=10, learning_rate=invscaling, max_iter=200, solver=lbfgs, tol=0.0001 \n",
      "[CV]  alpha=0.0001, hidden_layer_sizes=10, learning_rate=invscaling, max_iter=200, solver=lbfgs, tol=0.0001, score=-0.017942996243933473, total=   3.8s\n",
      "[Parallel(n_jobs=1)]: Done  12 out of  12 | elapsed:   33.5s remaining:    0.0s\n",
      "[CV] alpha=0.0001, hidden_layer_sizes=15, learning_rate=adaptive, max_iter=200, solver=lbfgs, tol=0.0001 \n",
      "[CV]  alpha=0.0001, hidden_layer_sizes=15, learning_rate=adaptive, max_iter=200, solver=lbfgs, tol=0.0001, score=-1.459576239885291, total=   5.7s\n",
      "[Parallel(n_jobs=1)]: Done  13 out of  13 | elapsed:   39.2s remaining:    0.0s\n",
      "[CV] alpha=0.0001, hidden_layer_sizes=15, learning_rate=adaptive, max_iter=200, solver=lbfgs, tol=0.0001 \n",
      "[CV]  alpha=0.0001, hidden_layer_sizes=15, learning_rate=adaptive, max_iter=200, solver=lbfgs, tol=0.0001, score=-0.2488806172048852, total=   5.4s\n",
      "[Parallel(n_jobs=1)]: Done  14 out of  14 | elapsed:   44.7s remaining:    0.0s\n",
      "[CV] alpha=0.0001, hidden_layer_sizes=15, learning_rate=adaptive, max_iter=200, solver=lbfgs, tol=0.0001 \n",
      "[CV]  alpha=0.0001, hidden_layer_sizes=15, learning_rate=adaptive, max_iter=200, solver=lbfgs, tol=0.0001, score=-0.15877623944761088, total=   5.7s\n",
      "[Parallel(n_jobs=1)]: Done  15 out of  15 | elapsed:   50.4s remaining:    0.0s\n",
      "[CV] alpha=0.0001, hidden_layer_sizes=15, learning_rate=invscaling, max_iter=200, solver=lbfgs, tol=0.0001 \n",
      "[CV]  alpha=0.0001, hidden_layer_sizes=15, learning_rate=invscaling, max_iter=200, solver=lbfgs, tol=0.0001, score=-0.9960371173259683, total=   5.3s\n",
      "[Parallel(n_jobs=1)]: Done  16 out of  16 | elapsed:   55.8s remaining:    0.0s\n",
      "[CV] alpha=0.0001, hidden_layer_sizes=15, learning_rate=invscaling, max_iter=200, solver=lbfgs, tol=0.0001 \n",
      "[CV]  alpha=0.0001, hidden_layer_sizes=15, learning_rate=invscaling, max_iter=200, solver=lbfgs, tol=0.0001, score=-0.12671764229525562, total=   5.1s\n",
      "[Parallel(n_jobs=1)]: Done  17 out of  17 | elapsed:  1.0min remaining:    0.0s\n",
      "[CV] alpha=0.0001, hidden_layer_sizes=15, learning_rate=invscaling, max_iter=200, solver=lbfgs, tol=0.0001 \n",
      "[CV]  alpha=0.0001, hidden_layer_sizes=15, learning_rate=invscaling, max_iter=200, solver=lbfgs, tol=0.0001, score=-0.2677399959464055, total=   5.3s\n",
      "[Parallel(n_jobs=1)]: Done  18 out of  18 | elapsed:  1.1min remaining:    0.0s\n",
      "[Parallel(n_jobs=1)]: Done  18 out of  18 | elapsed:  1.1min finished\n"
     ]
    },
    {
     "data": {
      "text/plain": [
       "GridSearchCV(cv='warn', error_score='raise-deprecating',\n",
       "       estimator=MLPRegressor(activation='logistic', alpha=0.0001, batch_size='auto',\n",
       "       beta_1=0.9, beta_2=0.999, early_stopping=False, epsilon=1e-08,\n",
       "       hidden_layer_sizes=(100,), learning_rate='constant',\n",
       "       learning_rate_init=0.001, max_iter=200, momentum=0.9,\n",
       "       n_iter_no_change=10, nesterovs_momentum=True, power_t=0.5,\n",
       "       random_state=None, shuffle=True, solver='adam', tol=0.0001,\n",
       "       validation_fraction=0.1, verbose=False, warm_start=False),\n",
       "       fit_params=None, iid='warn', n_jobs=1,\n",
       "       param_grid={'solver': ['lbfgs'], 'learning_rate': ['adaptive', 'invscaling'], 'alpha': [0.0001], 'max_iter': [200], 'tol': [0.0001], 'hidden_layer_sizes': [5, 10, 15]},\n",
       "       pre_dispatch='2*n_jobs', refit=True, return_train_score='warn',\n",
       "       scoring=None, verbose=100)"
      ]
     },
     "execution_count": 49,
     "metadata": {},
     "output_type": "execute_result"
    }
   ],
   "source": [
    "# Tests training features and targets with different neural network options\n",
    "est = mlp_regressor_grid_search()\n",
    "est.fit(scaled_train_features, train_targets)\n"
   ]
  },
  {
   "cell_type": "code",
   "execution_count": 51,
   "metadata": {},
   "outputs": [
    {
     "name": "stdout",
     "output_type": "stream",
     "text": [
      "MLPRegressor(activation='logistic', alpha=0.0001, batch_size='auto',\n",
      "       beta_1=0.9, beta_2=0.999, early_stopping=False, epsilon=1e-08,\n",
      "       hidden_layer_sizes=5, learning_rate='adaptive',\n",
      "       learning_rate_init=0.001, max_iter=200, momentum=0.9,\n",
      "       n_iter_no_change=10, nesterovs_momentum=True, power_t=0.5,\n",
      "       random_state=None, shuffle=True, solver='lbfgs', tol=0.0001,\n",
      "       validation_fraction=0.1, verbose=False, warm_start=False)\n"
     ]
    }
   ],
   "source": [
    "# Print best hyper parameters for model\n",
    "print(est.best_estimator_)"
   ]
  },
  {
   "cell_type": "code",
   "execution_count": 52,
   "metadata": {},
   "outputs": [
    {
     "name": "stdout",
     "output_type": "stream",
     "text": [
      "-0.03291774684654136\n"
     ]
    }
   ],
   "source": [
    "# Print score for best estimator on test data\n",
    "print(est.score(scaler.transform(test_features), test_targets))"
   ]
  },
  {
   "cell_type": "code",
   "execution_count": 55,
   "metadata": {},
   "outputs": [
    {
     "name": "stdout",
     "output_type": "stream",
     "text": [
      "PREDICTION: [5.23527888]\n"
     ]
    }
   ],
   "source": [
    "# Use features to print a prediction\n",
    "predict_data = [[2.0,20.0,1.0,2.0,8.0,44.0]]\n",
    "scaled_predict = scaler.transform(predict_data)\n",
    "\n",
    "\n",
    "prediction = est.predict(scaled_predict)\n",
    "print(\"PREDICTION:\", prediction)\n"
   ]
  }
 ],
 "metadata": {
  "kernelspec": {
   "display_name": "Python 3",
   "language": "python",
   "name": "python3"
  },
  "language_info": {
   "codemirror_mode": {
    "name": "ipython",
    "version": 3
   },
   "file_extension": ".py",
   "mimetype": "text/x-python",
   "name": "python",
   "nbconvert_exporter": "python",
   "pygments_lexer": "ipython3",
   "version": "3.6.8"
  }
 },
 "nbformat": 4,
 "nbformat_minor": 2
}
